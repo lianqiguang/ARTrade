{
 "cells": [
  {
   "cell_type": "code",
   "execution_count": 6,
   "metadata": {},
   "outputs": [],
   "source": [
    "import pandas as pd\n",
    "import pandas_ta as ta\n",
    "import numpy as np\n",
    "import matplotlib.pyplot as plt"
   ]
  },
  {
   "cell_type": "code",
   "execution_count": 7,
   "metadata": {},
   "outputs": [],
   "source": [
    "data = pd.read_csv(\"/home/ubuntu/ARTrade/strategy/Demo/BTCUSDT_BINANCE_1m_2024_01_04.csv\")"
   ]
  },
  {
   "cell_type": "code",
   "execution_count": 8,
   "metadata": {},
   "outputs": [
    {
     "name": "stdout",
     "output_type": "stream",
     "text": [
      "           Open     High      Low    Close   Volume           open_time\n",
      "0       42314.0  42335.8  42289.6  42331.9  289.641 2024-01-01 00:00:00\n",
      "1       42331.9  42353.1  42331.8  42350.4  202.444 2024-01-01 00:01:00\n",
      "2       42350.4  42370.8  42349.6  42360.2  271.521 2024-01-01 00:02:00\n",
      "3       42360.1  42405.8  42360.1  42405.8  392.238 2024-01-01 00:03:00\n",
      "4       42405.7  42437.2  42405.7  42437.1  568.366 2024-01-01 00:04:00\n",
      "...         ...      ...      ...      ...      ...                 ...\n",
      "174230  60877.5  60890.2  60810.1  60834.3  130.191 2024-04-30 23:50:00\n",
      "174231  60834.3  60835.3  60776.5  60791.9  119.424 2024-04-30 23:51:00\n",
      "174232  60792.0  60822.0  60790.8  60790.8   66.904 2024-04-30 23:52:00\n",
      "174233  60790.8  60800.0  60759.3  60759.3   77.052 2024-04-30 23:53:00\n",
      "174234  60759.3  60776.0  60721.1  60731.6  134.499 2024-04-30 23:54:00\n",
      "\n",
      "[174235 rows x 6 columns]\n"
     ]
    }
   ],
   "source": [
    "df = pd.DataFrame()\n",
    "\n",
    "df[\"Open\"] = data[\"open\"]\n",
    "df[\"High\"] = data[\"high\"]\n",
    "df[\"Low\"] = data[\"low\"]\n",
    "df[\"Close\"] = data[\"close\"]\n",
    "df[\"Volume\"] = data[\"volume\"]\n",
    "# df.index = data[\"open_time\"]\n",
    "# df.index = pd.to_datetime(df.index.astype(int) / 1000, unit='s')\n",
    "df[\"open_time\"] = data[\"open_time\"]\n",
    "df[\"open_time\"] = pd.to_datetime(df[\"open_time\"].astype(int) / 1000, unit='s')\n",
    "\n",
    "print(df)"
   ]
  },
  {
   "cell_type": "code",
   "execution_count": 9,
   "metadata": {},
   "outputs": [
    {
     "name": "stdout",
     "output_type": "stream",
     "text": [
      "           Open     High      Low    Close   Volume           open_time  \\\n",
      "0       42314.0  42335.8  42289.6  42331.9  289.641 2024-01-01 00:00:00   \n",
      "1       42331.9  42353.1  42331.8  42350.4  202.444 2024-01-01 00:01:00   \n",
      "2       42350.4  42370.8  42349.6  42360.2  271.521 2024-01-01 00:02:00   \n",
      "3       42360.1  42405.8  42360.1  42405.8  392.238 2024-01-01 00:03:00   \n",
      "4       42405.7  42437.2  42405.7  42437.1  568.366 2024-01-01 00:04:00   \n",
      "...         ...      ...      ...      ...      ...                 ...   \n",
      "174230  60877.5  60890.2  60810.1  60834.3  130.191 2024-04-30 23:50:00   \n",
      "174231  60834.3  60835.3  60776.5  60791.9  119.424 2024-04-30 23:51:00   \n",
      "174232  60792.0  60822.0  60790.8  60790.8   66.904 2024-04-30 23:52:00   \n",
      "174233  60790.8  60800.0  60759.3  60759.3   77.052 2024-04-30 23:53:00   \n",
      "174234  60759.3  60776.0  60721.1  60731.6  134.499 2024-04-30 23:54:00   \n",
      "\n",
      "            KDJ_K      KDJ_D      KDJ_J  \n",
      "0             NaN        NaN        NaN  \n",
      "1             NaN        NaN        NaN  \n",
      "2             NaN        NaN        NaN  \n",
      "3             NaN        NaN        NaN  \n",
      "4             NaN        NaN        NaN  \n",
      "...           ...        ...        ...  \n",
      "174230  84.640620  85.597248  82.727364  \n",
      "174231  77.543017  82.912505  66.804042  \n",
      "174232  72.688774  79.504594  59.057133  \n",
      "174233  65.944426  74.984538  47.864201  \n",
      "174234  58.363218  69.444098  36.201458  \n",
      "\n",
      "[174235 rows x 9 columns]\n",
      "           Open     High      Low    Close   Volume           open_time  \\\n",
      "0       42314.0  42335.8  42289.6  42331.9  289.641 2024-01-01 00:00:00   \n",
      "1       42331.9  42353.1  42331.8  42350.4  202.444 2024-01-01 00:01:00   \n",
      "2       42350.4  42370.8  42349.6  42360.2  271.521 2024-01-01 00:02:00   \n",
      "3       42360.1  42405.8  42360.1  42405.8  392.238 2024-01-01 00:03:00   \n",
      "4       42405.7  42437.2  42405.7  42437.1  568.366 2024-01-01 00:04:00   \n",
      "...         ...      ...      ...      ...      ...                 ...   \n",
      "174230  60877.5  60890.2  60810.1  60834.3  130.191 2024-04-30 23:50:00   \n",
      "174231  60834.3  60835.3  60776.5  60791.9  119.424 2024-04-30 23:51:00   \n",
      "174232  60792.0  60822.0  60790.8  60790.8   66.904 2024-04-30 23:52:00   \n",
      "174233  60790.8  60800.0  60759.3  60759.3   77.052 2024-04-30 23:53:00   \n",
      "174234  60759.3  60776.0  60721.1  60731.6  134.499 2024-04-30 23:54:00   \n",
      "\n",
      "            KDJ_K      KDJ_D      KDJ_J  trade_point  \n",
      "0             NaN        NaN        NaN            0  \n",
      "1             NaN        NaN        NaN            0  \n",
      "2             NaN        NaN        NaN            0  \n",
      "3             NaN        NaN        NaN            0  \n",
      "4             NaN        NaN        NaN            0  \n",
      "...           ...        ...        ...          ...  \n",
      "174230  84.640620  85.597248  82.727364           -1  \n",
      "174231  77.543017  82.912505  66.804042            0  \n",
      "174232  72.688774  79.504594  59.057133            0  \n",
      "174233  65.944426  74.984538  47.864201            0  \n",
      "174234  58.363218  69.444098  36.201458            0  \n",
      "\n",
      "[174235 rows x 10 columns]\n"
     ]
    }
   ],
   "source": [
    "kdj = ta.kdj(df[\"High\"], df[\"Low\"], df[\"Close\"], length=14)\n",
    "df[[\"KDJ_K\", \"KDJ_D\", \"KDJ_J\"]] = kdj\n",
    "\n",
    "print(df)\n",
    "df['trade_point'] = 0\n",
    "\n",
    "# 金叉\n",
    "golden_cross_condition = (df['KDJ_K'] > df['KDJ_D']) & (df['KDJ_K'].shift(1) <= df['KDJ_D'].shift(1)) & (df['KDJ_K'] <= 20)\n",
    "df.loc[golden_cross_condition, 'trade_point'] = 1\n",
    "# 死叉\n",
    "death_cross_condition = (df['KDJ_K'] < df['KDJ_D']) & (df['KDJ_K'].shift(1) >= df['KDJ_D'].shift(1)) & (df['KDJ_K'] >= 80)\n",
    "df.loc[death_cross_condition, 'trade_point'] = -1\n",
    "print(df)\n"
   ]
  },
  {
   "cell_type": "code",
   "execution_count": 10,
   "metadata": {},
   "outputs": [],
   "source": [
    "rsi = ta.rsi(df['Close'], length=14)\n",
    "macd = ta.macd(df['Close'], fastperiod=12, slowperiod=26, signalperiod=9)\n",
    "df['RSI'] = rsi\n",
    "df[[\"MACDline\", \"MACDsignal\", \"MACDhist\"]] = macd"
   ]
  },
  {
   "cell_type": "code",
   "execution_count": 11,
   "metadata": {},
   "outputs": [],
   "source": [
    "\n",
    "df.to_csv(\"talib.csv\", index=False)"
   ]
  }
 ],
 "metadata": {
  "kernelspec": {
   "display_name": "Python 3",
   "language": "python",
   "name": "python3"
  },
  "language_info": {
   "codemirror_mode": {
    "name": "ipython",
    "version": 3
   },
   "file_extension": ".py",
   "mimetype": "text/x-python",
   "name": "python",
   "nbconvert_exporter": "python",
   "pygments_lexer": "ipython3",
   "version": "3.10.12"
  }
 },
 "nbformat": 4,
 "nbformat_minor": 2
}
