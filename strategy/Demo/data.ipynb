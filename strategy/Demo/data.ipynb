{
 "cells": [
  {
   "cell_type": "code",
   "execution_count": 17,
   "metadata": {},
   "outputs": [],
   "source": [
    "import os\n",
    "import pandas as pd\n",
    "import numpy as np"
   ]
  },
  {
   "cell_type": "code",
   "execution_count": 18,
   "metadata": {},
   "outputs": [
    {
     "name": "stdout",
     "output_type": "stream",
     "text": [
      "            open_time     open     high      low    close   volume  \\\n",
      "0       1704067200000  42314.0  42335.8  42289.6  42331.9  289.641   \n",
      "1       1704067260000  42331.9  42353.1  42331.8  42350.4  202.444   \n",
      "2       1704067320000  42350.4  42370.8  42349.6  42360.2  271.521   \n",
      "3       1704067380000  42360.1  42405.8  42360.1  42405.8  392.238   \n",
      "4       1704067440000  42405.7  42437.2  42405.7  42437.1  568.366   \n",
      "...               ...      ...      ...      ...      ...      ...   \n",
      "174235  1714521300000  60731.7  60768.5  60727.1  60756.5   53.951   \n",
      "174236  1714521360000  60756.5  60759.1  60734.5  60746.4   63.081   \n",
      "174237  1714521420000  60746.3  60754.1  60667.3  60679.1  214.419   \n",
      "174238  1714521480000  60679.0  60685.2  60615.7  60615.8  155.238   \n",
      "174239  1714521540000  60615.7  60657.9  60610.7  60651.2  142.134   \n",
      "\n",
      "           close_time  quote_volume  count  taker_buy_volume  \\\n",
      "0       1704067259999  1.225616e+07   3310           175.211   \n",
      "1       1704067319999  8.572241e+06   1885           154.353   \n",
      "2       1704067379999  1.150139e+07   2143           193.034   \n",
      "3       1704067439999  1.662644e+07   3551           332.749   \n",
      "4       1704067499999  2.411261e+07   4479           419.524   \n",
      "...               ...           ...    ...               ...   \n",
      "174235  1714521359999  3.277940e+06   1379            29.953   \n",
      "174236  1714521419999  3.832017e+06   1195            15.664   \n",
      "174237  1714521479999  1.301519e+07   2923            63.600   \n",
      "174238  1714521539999  9.414992e+06   2435            21.190   \n",
      "174239  1714521599999  8.619023e+06   1830            51.993   \n",
      "\n",
      "        taker_buy_quote_volume  ignore  last_funding_rate  \n",
      "0                 7.414460e+06       0           0.000374  \n",
      "1                 6.535805e+06       0           0.000000  \n",
      "2                 8.176843e+06       0           0.000000  \n",
      "3                 1.410472e+07       0           0.000000  \n",
      "4                 1.779786e+07       0           0.000000  \n",
      "...                        ...     ...                ...  \n",
      "174235            1.819824e+06       0           0.000000  \n",
      "174236            9.514983e+05       0           0.000000  \n",
      "174237            3.859976e+06       0           0.000000  \n",
      "174238            1.285438e+06       0           0.000000  \n",
      "174239            3.152763e+06       0           0.000000  \n",
      "\n",
      "[174240 rows x 13 columns]\n"
     ]
    }
   ],
   "source": [
    "files = os.listdir(\"./data\")\n",
    "\n",
    "dates = [\"2024-01\", \"2024-02\", \"2024-03\", \"2024-04\"]\n",
    "\n",
    "kline_1m = list()\n",
    "funding_rate = list()\n",
    "for date in dates:\n",
    "    kline_1m.append(pd.read_csv(f\"./data/BTCUSDT-1m-{date}.csv\"))\n",
    "    funding_rate.append(pd.read_csv(f\"./data/BTCUSDT-fundingRate-{date}.csv\"))\n",
    "kline_1m = pd.concat(kline_1m, ignore_index=True)\n",
    "funding_rate = pd.concat(funding_rate, ignore_index=True)\n",
    "\n",
    "rate_map = funding_rate.set_index('calc_time')['last_funding_rate'].to_dict()\n",
    "kline_1m['last_funding_rate'] = kline_1m['open_time'].map(lambda x: rate_map.get(x, 0))\n",
    "print(kline_1m)\n"
   ]
  },
  {
   "cell_type": "code",
   "execution_count": 19,
   "metadata": {},
   "outputs": [
    {
     "name": "stdout",
     "output_type": "stream",
     "text": [
      "Index(['open_time', 'open', 'high', 'low', 'close', 'volume', 'close_time',\n",
      "       'quote_volume', 'count', 'taker_buy_volume', 'taker_buy_quote_volume',\n",
      "       'ignore', 'last_funding_rate'],\n",
      "      dtype='object')\n",
      "Index(['open_time', 'open', 'high', 'low', 'close', 'volume', 'quote_volume',\n",
      "       'count', 'taker_buy_quote_volume', 'last_funding_rate'],\n",
      "      dtype='object')\n"
     ]
    }
   ],
   "source": [
    "print(kline_1m.columns)\n",
    "\"\"\"\n",
    "open_time\t            K线图开盘时间(unix格式)\n",
    "open\t                开盘价\n",
    "high\t                最高价\n",
    "low\t                    最低价\n",
    "close                   收盘价\n",
    "volume                  成交量\n",
    "close_time\t            K线图收盘时间(unix格式)\n",
    "quote_volume\t        报价币成交量\n",
    "count\t                成单数\n",
    "taker_buy_volume\t    在此期间吃单方买入的基础币数量\n",
    "taker_buy_quote_volume\t在此期间吃单方买入的报价币数量\n",
    "ignore\t                忽略\n",
    "last_funding_rate       资金费率\n",
    "\"\"\"\n",
    "\n",
    "kline_1m = kline_1m.drop([\"taker_buy_volume\", \"close_time\", \"ignore\"], axis=1)\n",
    "print(kline_1m.columns)"
   ]
  },
  {
   "cell_type": "code",
   "execution_count": 20,
   "metadata": {},
   "outputs": [
    {
     "name": "stdout",
     "output_type": "stream",
     "text": [
      "Index(['open_time', 'open', 'high', 'low', 'close', 'volume', 'quote_volume',\n",
      "       'count', 'taker_buy_quote_volume', 'last_funding_rate', 'color',\n",
      "       'price_range', 'kline_body_ratio', 'kline_upper_shadow_ratio',\n",
      "       'kline_lower_shadow_ratio', 'signal', 'signal_5'],\n",
      "      dtype='object')\n"
     ]
    }
   ],
   "source": [
    "# 计算红绿柱 红1 绿0\n",
    "kline_1m['color'] = kline_1m.apply(lambda row: 1 if row['close'] > row['open'] else 0, axis = 1)\n",
    "\n",
    "# 计算价格范围  \n",
    "kline_1m['price_range'] = kline_1m['high'] - kline_1m['low']  \n",
    "  \n",
    "# 计算实体长度（阳线为close-open，阴线为open-close）  \n",
    "# 使用np.where进行条件判断  \n",
    "kline_body = np.where(kline_1m['close'] > kline_1m['open'],   \n",
    "                      kline_1m['close'] - kline_1m['open'],   \n",
    "                      kline_1m['open'] - kline_1m['close'])  \n",
    "  \n",
    "# 计算上影线长度（阳线为high-close，阴线为high-open）  \n",
    "kline_upper_shadow = np.where(kline_1m['close'] > kline_1m['open'],   \n",
    "                              kline_1m['high'] - kline_1m['close'],   \n",
    "                              kline_1m['high'] - kline_1m['open'])  \n",
    "  \n",
    "# 计算下影线长度（阳线为open-low，阴线为close-low）  \n",
    "kline_lower_shadow = np.where(kline_1m['close'] > kline_1m['open'],   \n",
    "                              kline_1m['open'] - kline_1m['low'],   \n",
    "                              kline_1m['close'] - kline_1m['low'])  \n",
    "  \n",
    "# 计算实体比例、上影线比例和下影线比例  \n",
    "kline_1m['kline_body_ratio'] = kline_body / kline_1m['price_range']  \n",
    "kline_1m['kline_upper_shadow_ratio'] = kline_upper_shadow / kline_1m['price_range']  \n",
    "kline_1m['kline_lower_shadow_ratio'] = kline_lower_shadow / kline_1m['price_range']\n",
    "\n",
    "# 下个Kline\n",
    "kline_1m['signal'] = (kline_1m['close'].shift(-1) - kline_1m['open'].shift(-1)) / kline_1m[\"close\"]\n",
    "\n",
    "# 由于rolling是向前滚动的，我们先反转DataFrame  \n",
    "kline_1m_reversed = kline_1m[::-1]\n",
    "signal_5_reversed = kline_1m_reversed['signal'].rolling(window=5).sum()\n",
    "signal_5 = signal_5_reversed[::-1]\n",
    "kline_1m['signal_5'] = signal_5\n",
    "\n",
    "# 保存文件\n",
    "kline_1m.to_csv(\"BTCUSDT_BINANCE_1m_2024_01_04.csv\", index=False)\n",
    "print(kline_1m.columns)\n",
    "# print(kline_1m.tail(50))"
   ]
  }
 ],
 "metadata": {
  "kernelspec": {
   "display_name": "Python 3",
   "language": "python",
   "name": "python3"
  },
  "language_info": {
   "codemirror_mode": {
    "name": "ipython",
    "version": 3
   },
   "file_extension": ".py",
   "mimetype": "text/x-python",
   "name": "python",
   "nbconvert_exporter": "python",
   "pygments_lexer": "ipython3",
   "version": "3.10.12"
  }
 },
 "nbformat": 4,
 "nbformat_minor": 2
}
